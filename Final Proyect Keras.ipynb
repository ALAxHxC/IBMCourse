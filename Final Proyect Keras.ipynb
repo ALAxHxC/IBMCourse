{
    "cells": [
        {
            "cell_type": "code",
            "execution_count": 12,
            "metadata": {},
            "outputs": [],
            "source": "#URL DATA_: https://cocl.us/concrete_data"
        },
        {
            "cell_type": "markdown",
            "metadata": {},
            "source": "### Load data set"
        },
        {
            "cell_type": "code",
            "execution_count": 1,
            "metadata": {},
            "outputs": [
                {
                    "name": "stderr",
                    "output_type": "stream",
                    "text": "Using TensorFlow backend.\n"
                }
            ],
            "source": "#packages to load data\nimport pandas as pd\nimport numpy as np\nimport keras\nfrom keras.models import Sequential\nfrom keras.layers import Dense"
        },
        {
            "cell_type": "code",
            "execution_count": 2,
            "metadata": {},
            "outputs": [
                {
                    "data": {
                        "text/html": "<div>\n<style scoped>\n    .dataframe tbody tr th:only-of-type {\n        vertical-align: middle;\n    }\n\n    .dataframe tbody tr th {\n        vertical-align: top;\n    }\n\n    .dataframe thead th {\n        text-align: right;\n    }\n</style>\n<table border=\"1\" class=\"dataframe\">\n  <thead>\n    <tr style=\"text-align: right;\">\n      <th></th>\n      <th>Cement</th>\n      <th>Blast Furnace Slag</th>\n      <th>Fly Ash</th>\n      <th>Water</th>\n      <th>Superplasticizer</th>\n      <th>Coarse Aggregate</th>\n      <th>Fine Aggregate</th>\n      <th>Age</th>\n      <th>Strength</th>\n    </tr>\n  </thead>\n  <tbody>\n    <tr>\n      <th>0</th>\n      <td>540.0</td>\n      <td>0.0</td>\n      <td>0.0</td>\n      <td>162.0</td>\n      <td>2.5</td>\n      <td>1040.0</td>\n      <td>676.0</td>\n      <td>28</td>\n      <td>79.99</td>\n    </tr>\n    <tr>\n      <th>1</th>\n      <td>540.0</td>\n      <td>0.0</td>\n      <td>0.0</td>\n      <td>162.0</td>\n      <td>2.5</td>\n      <td>1055.0</td>\n      <td>676.0</td>\n      <td>28</td>\n      <td>61.89</td>\n    </tr>\n    <tr>\n      <th>2</th>\n      <td>332.5</td>\n      <td>142.5</td>\n      <td>0.0</td>\n      <td>228.0</td>\n      <td>0.0</td>\n      <td>932.0</td>\n      <td>594.0</td>\n      <td>270</td>\n      <td>40.27</td>\n    </tr>\n    <tr>\n      <th>3</th>\n      <td>332.5</td>\n      <td>142.5</td>\n      <td>0.0</td>\n      <td>228.0</td>\n      <td>0.0</td>\n      <td>932.0</td>\n      <td>594.0</td>\n      <td>365</td>\n      <td>41.05</td>\n    </tr>\n    <tr>\n      <th>4</th>\n      <td>198.6</td>\n      <td>132.4</td>\n      <td>0.0</td>\n      <td>192.0</td>\n      <td>0.0</td>\n      <td>978.4</td>\n      <td>825.5</td>\n      <td>360</td>\n      <td>44.30</td>\n    </tr>\n  </tbody>\n</table>\n</div>",
                        "text/plain": "   Cement  Blast Furnace Slag  Fly Ash  Water  Superplasticizer  \\\n0   540.0                 0.0      0.0  162.0               2.5   \n1   540.0                 0.0      0.0  162.0               2.5   \n2   332.5               142.5      0.0  228.0               0.0   \n3   332.5               142.5      0.0  228.0               0.0   \n4   198.6               132.4      0.0  192.0               0.0   \n\n   Coarse Aggregate  Fine Aggregate  Age  Strength  \n0            1040.0           676.0   28     79.99  \n1            1055.0           676.0   28     61.89  \n2             932.0           594.0  270     40.27  \n3             932.0           594.0  365     41.05  \n4             978.4           825.5  360     44.30  "
                    },
                    "execution_count": 2,
                    "metadata": {},
                    "output_type": "execute_result"
                }
            ],
            "source": "#LOAD DATA\ndata_set = pd.read_csv('https://cocl.us/concrete_data')\ndata_set.head()"
        },
        {
            "cell_type": "markdown",
            "metadata": {},
            "source": "#### Check Dimensions data"
        },
        {
            "cell_type": "code",
            "execution_count": 3,
            "metadata": {},
            "outputs": [
                {
                    "data": {
                        "text/plain": "(1030, 9)"
                    },
                    "execution_count": 3,
                    "metadata": {},
                    "output_type": "execute_result"
                }
            ],
            "source": "#DIMENSIONS\ndata_set.shape"
        },
        {
            "cell_type": "markdown",
            "metadata": {},
            "source": "### Check if exist None Values"
        },
        {
            "cell_type": "code",
            "execution_count": 4,
            "metadata": {},
            "outputs": [
                {
                    "data": {
                        "text/plain": "Cement                0\nBlast Furnace Slag    0\nFly Ash               0\nWater                 0\nSuperplasticizer      0\nCoarse Aggregate      0\nFine Aggregate        0\nAge                   0\nStrength              0\ndtype: int64"
                    },
                    "execution_count": 4,
                    "metadata": {},
                    "output_type": "execute_result"
                }
            ],
            "source": "#Exist non values?\ndata_set.isnull().sum()\n#LOOKS PERFECT DATA"
        },
        {
            "cell_type": "markdown",
            "metadata": {},
            "source": "### Split data beteween predictors and objective\n * predictors: all columns exception  Strenth\n * target: Strengt"
        },
        {
            "cell_type": "code",
            "execution_count": 5,
            "metadata": {},
            "outputs": [],
            "source": "columns = data_set.columns\n\nX_predictos = data_set[columns[columns != 'Strength']] # all columns except Strength\nY_target = data_set['Strength'] # Strength column]"
        },
        {
            "cell_type": "markdown",
            "metadata": {},
            "source": "### Check X and Y"
        },
        {
            "cell_type": "code",
            "execution_count": 6,
            "metadata": {},
            "outputs": [
                {
                    "data": {
                        "text/html": "<div>\n<style scoped>\n    .dataframe tbody tr th:only-of-type {\n        vertical-align: middle;\n    }\n\n    .dataframe tbody tr th {\n        vertical-align: top;\n    }\n\n    .dataframe thead th {\n        text-align: right;\n    }\n</style>\n<table border=\"1\" class=\"dataframe\">\n  <thead>\n    <tr style=\"text-align: right;\">\n      <th></th>\n      <th>Cement</th>\n      <th>Blast Furnace Slag</th>\n      <th>Fly Ash</th>\n      <th>Water</th>\n      <th>Superplasticizer</th>\n      <th>Coarse Aggregate</th>\n      <th>Fine Aggregate</th>\n      <th>Age</th>\n    </tr>\n  </thead>\n  <tbody>\n    <tr>\n      <th>count</th>\n      <td>1030.000000</td>\n      <td>1030.000000</td>\n      <td>1030.000000</td>\n      <td>1030.000000</td>\n      <td>1030.000000</td>\n      <td>1030.000000</td>\n      <td>1030.000000</td>\n      <td>1030.000000</td>\n    </tr>\n    <tr>\n      <th>mean</th>\n      <td>281.167864</td>\n      <td>73.895825</td>\n      <td>54.188350</td>\n      <td>181.567282</td>\n      <td>6.204660</td>\n      <td>972.918932</td>\n      <td>773.580485</td>\n      <td>45.662136</td>\n    </tr>\n    <tr>\n      <th>std</th>\n      <td>104.506364</td>\n      <td>86.279342</td>\n      <td>63.997004</td>\n      <td>21.354219</td>\n      <td>5.973841</td>\n      <td>77.753954</td>\n      <td>80.175980</td>\n      <td>63.169912</td>\n    </tr>\n    <tr>\n      <th>min</th>\n      <td>102.000000</td>\n      <td>0.000000</td>\n      <td>0.000000</td>\n      <td>121.800000</td>\n      <td>0.000000</td>\n      <td>801.000000</td>\n      <td>594.000000</td>\n      <td>1.000000</td>\n    </tr>\n    <tr>\n      <th>25%</th>\n      <td>192.375000</td>\n      <td>0.000000</td>\n      <td>0.000000</td>\n      <td>164.900000</td>\n      <td>0.000000</td>\n      <td>932.000000</td>\n      <td>730.950000</td>\n      <td>7.000000</td>\n    </tr>\n    <tr>\n      <th>50%</th>\n      <td>272.900000</td>\n      <td>22.000000</td>\n      <td>0.000000</td>\n      <td>185.000000</td>\n      <td>6.400000</td>\n      <td>968.000000</td>\n      <td>779.500000</td>\n      <td>28.000000</td>\n    </tr>\n    <tr>\n      <th>75%</th>\n      <td>350.000000</td>\n      <td>142.950000</td>\n      <td>118.300000</td>\n      <td>192.000000</td>\n      <td>10.200000</td>\n      <td>1029.400000</td>\n      <td>824.000000</td>\n      <td>56.000000</td>\n    </tr>\n    <tr>\n      <th>max</th>\n      <td>540.000000</td>\n      <td>359.400000</td>\n      <td>200.100000</td>\n      <td>247.000000</td>\n      <td>32.200000</td>\n      <td>1145.000000</td>\n      <td>992.600000</td>\n      <td>365.000000</td>\n    </tr>\n  </tbody>\n</table>\n</div>",
                        "text/plain": "            Cement  Blast Furnace Slag      Fly Ash        Water  \\\ncount  1030.000000         1030.000000  1030.000000  1030.000000   \nmean    281.167864           73.895825    54.188350   181.567282   \nstd     104.506364           86.279342    63.997004    21.354219   \nmin     102.000000            0.000000     0.000000   121.800000   \n25%     192.375000            0.000000     0.000000   164.900000   \n50%     272.900000           22.000000     0.000000   185.000000   \n75%     350.000000          142.950000   118.300000   192.000000   \nmax     540.000000          359.400000   200.100000   247.000000   \n\n       Superplasticizer  Coarse Aggregate  Fine Aggregate          Age  \ncount       1030.000000       1030.000000     1030.000000  1030.000000  \nmean           6.204660        972.918932      773.580485    45.662136  \nstd            5.973841         77.753954       80.175980    63.169912  \nmin            0.000000        801.000000      594.000000     1.000000  \n25%            0.000000        932.000000      730.950000     7.000000  \n50%            6.400000        968.000000      779.500000    28.000000  \n75%           10.200000       1029.400000      824.000000    56.000000  \nmax           32.200000       1145.000000      992.600000   365.000000  "
                    },
                    "execution_count": 6,
                    "metadata": {},
                    "output_type": "execute_result"
                }
            ],
            "source": "X_predictos.describe()"
        },
        {
            "cell_type": "code",
            "execution_count": 7,
            "metadata": {
                "scrolled": true
            },
            "outputs": [
                {
                    "data": {
                        "text/plain": "0    79.99\n1    61.89\n2    40.27\n3    41.05\n4    44.30\nName: Strength, dtype: float64"
                    },
                    "execution_count": 7,
                    "metadata": {},
                    "output_type": "execute_result"
                }
            ],
            "source": "Y_target.head()"
        },
        {
            "cell_type": "markdown",
            "metadata": {},
            "source": "### Normalize predictors using standar desviaton"
        },
        {
            "cell_type": "code",
            "execution_count": 8,
            "metadata": {},
            "outputs": [
                {
                    "data": {
                        "text/html": "<div>\n<style scoped>\n    .dataframe tbody tr th:only-of-type {\n        vertical-align: middle;\n    }\n\n    .dataframe tbody tr th {\n        vertical-align: top;\n    }\n\n    .dataframe thead th {\n        text-align: right;\n    }\n</style>\n<table border=\"1\" class=\"dataframe\">\n  <thead>\n    <tr style=\"text-align: right;\">\n      <th></th>\n      <th>Cement</th>\n      <th>Blast Furnace Slag</th>\n      <th>Fly Ash</th>\n      <th>Water</th>\n      <th>Superplasticizer</th>\n      <th>Coarse Aggregate</th>\n      <th>Fine Aggregate</th>\n      <th>Age</th>\n    </tr>\n  </thead>\n  <tbody>\n    <tr>\n      <th>0</th>\n      <td>2.476712</td>\n      <td>-0.856472</td>\n      <td>-0.846733</td>\n      <td>-0.916319</td>\n      <td>-0.620147</td>\n      <td>0.862735</td>\n      <td>-1.217079</td>\n      <td>-0.279597</td>\n    </tr>\n    <tr>\n      <th>1</th>\n      <td>2.476712</td>\n      <td>-0.856472</td>\n      <td>-0.846733</td>\n      <td>-0.916319</td>\n      <td>-0.620147</td>\n      <td>1.055651</td>\n      <td>-1.217079</td>\n      <td>-0.279597</td>\n    </tr>\n    <tr>\n      <th>2</th>\n      <td>0.491187</td>\n      <td>0.795140</td>\n      <td>-0.846733</td>\n      <td>2.174405</td>\n      <td>-1.038638</td>\n      <td>-0.526262</td>\n      <td>-2.239829</td>\n      <td>3.551340</td>\n    </tr>\n    <tr>\n      <th>3</th>\n      <td>0.491187</td>\n      <td>0.795140</td>\n      <td>-0.846733</td>\n      <td>2.174405</td>\n      <td>-1.038638</td>\n      <td>-0.526262</td>\n      <td>-2.239829</td>\n      <td>5.055221</td>\n    </tr>\n    <tr>\n      <th>4</th>\n      <td>-0.790075</td>\n      <td>0.678079</td>\n      <td>-0.846733</td>\n      <td>0.488555</td>\n      <td>-1.038638</td>\n      <td>0.070492</td>\n      <td>0.647569</td>\n      <td>4.976069</td>\n    </tr>\n  </tbody>\n</table>\n</div>",
                        "text/plain": "     Cement  Blast Furnace Slag   Fly Ash     Water  Superplasticizer  \\\n0  2.476712           -0.856472 -0.846733 -0.916319         -0.620147   \n1  2.476712           -0.856472 -0.846733 -0.916319         -0.620147   \n2  0.491187            0.795140 -0.846733  2.174405         -1.038638   \n3  0.491187            0.795140 -0.846733  2.174405         -1.038638   \n4 -0.790075            0.678079 -0.846733  0.488555         -1.038638   \n\n   Coarse Aggregate  Fine Aggregate       Age  \n0          0.862735       -1.217079 -0.279597  \n1          1.055651       -1.217079 -0.279597  \n2         -0.526262       -2.239829  3.551340  \n3         -0.526262       -2.239829  5.055221  \n4          0.070492        0.647569  4.976069  "
                    },
                    "execution_count": 8,
                    "metadata": {},
                    "output_type": "execute_result"
                }
            ],
            "source": "\nX_predictos_norm = (X_predictos - X_predictos.mean()) / X_predictos.std()\nX_predictos_norm.head()"
        },
        {
            "cell_type": "markdown",
            "metadata": {},
            "source": "### Split data:\n  * Randomly split the data into a training and test sets by holding 30% of the data for testing"
        },
        {
            "cell_type": "code",
            "execution_count": 9,
            "metadata": {},
            "outputs": [],
            "source": "#Wih standar data no normalized:\n#from sklearn.model_selection import train_test_split\n#X_train, X_test, y_train, y_test = train_test_split(X_predictos_norm, Y_target, test_size=0.30, random_state=50)\n\nfrom sklearn.model_selection import train_test_split\nX_train, X_test, y_train, y_test = train_test_split(X_predictos_norm, Y_target, test_size=0.30, random_state=50)"
        },
        {
            "cell_type": "markdown",
            "metadata": {},
            "source": "### NN Rules\n    * 50 epochs\n    * Activation function ReLU \n    * One hidden layer of 10 nodes\n    * Use the adam optimizer and the mean squared error as the loss function\n    * X_predictos_norm.shape[1] is the number of input columns 8"
        },
        {
            "cell_type": "code",
            "execution_count": 10,
            "metadata": {},
            "outputs": [],
            "source": "# define regression model\ndef regression_model():\n    # create model\n    model = Sequential()\n    # 10 Nodes, one hidden layer\n    # Use the adam optimizer and the mean squared error as the loss function\n    model.add(Dense(10, activation='relu', input_shape=(X_predictos_norm.shape[1],)))\n    #For dd adding 2 hidden layers more\n    model.add(Dense(10, activation='relu'))\n    model.add(Dense(10, activation='relu'))\n    # Output 1, Strength\n    model.add(Dense(1))\n    \n    # Use the adam optimizer and the mean squared error as the loss function\n    model.compile(optimizer='adam', loss='mean_squared_error')\n    return model"
        },
        {
            "cell_type": "code",
            "execution_count": 11,
            "metadata": {},
            "outputs": [
                {
                    "name": "stdout",
                    "output_type": "stream",
                    "text": "WARNING:tensorflow:From /opt/conda/envs/Python36/lib/python3.6/site-packages/tensorflow/python/framework/op_def_library.py:263: colocate_with (from tensorflow.python.framework.ops) is deprecated and will be removed in a future version.\nInstructions for updating:\nColocations handled automatically by placer.\n"
                }
            ],
            "source": "model = regression_model()"
        },
        {
            "cell_type": "markdown",
            "metadata": {},
            "source": "### Fit explain\n * X_train is predictors\n * Y_train is traget\n * Validation data : X_TEST, Y_TESTS\n * EPOCS 2"
        },
        {
            "cell_type": "code",
            "execution_count": 12,
            "metadata": {},
            "outputs": [
                {
                    "name": "stdout",
                    "output_type": "stream",
                    "text": "WARNING:tensorflow:From /opt/conda/envs/Python36/lib/python3.6/site-packages/tensorflow/python/ops/math_ops.py:3066: to_int32 (from tensorflow.python.ops.math_ops) is deprecated and will be removed in a future version.\nInstructions for updating:\nUse tf.cast instead.\nTrain on 721 samples, validate on 309 samples\nEpoch 1/50\n - 3s - loss: 1562.5894 - val_loss: 1444.5567\nEpoch 2/50\n - 1s - loss: 1532.5051 - val_loss: 1410.1624\nEpoch 3/50\n - 1s - loss: 1486.2371 - val_loss: 1352.8523\nEpoch 4/50\n - 1s - loss: 1409.6312 - val_loss: 1254.5115\nEpoch 5/50\n - 1s - loss: 1281.0466 - val_loss: 1100.7059\nEpoch 6/50\n - 1s - loss: 1085.5651 - val_loss: 882.2291\nEpoch 7/50\n - 1s - loss: 826.8235 - val_loss: 621.5711\nEpoch 8/50\n - 1s - loss: 553.5557 - val_loss: 399.8713\nEpoch 9/50\n - 6s - loss: 362.8777 - val_loss: 283.7450\nEpoch 10/50\n - 1s - loss: 275.5877 - val_loss: 245.1404\nEpoch 11/50\n - 1s - loss: 245.3920 - val_loss: 227.6853\nEpoch 12/50\n - 1s - loss: 229.3672 - val_loss: 215.8093\nEpoch 13/50\n - 1s - loss: 216.8485 - val_loss: 207.2634\nEpoch 14/50\n - 1s - loss: 208.5973 - val_loss: 199.2242\nEpoch 15/50\n - 1s - loss: 201.6020 - val_loss: 193.8986\nEpoch 16/50\n - 1s - loss: 195.9141 - val_loss: 187.9122\nEpoch 17/50\n - 1s - loss: 191.1342 - val_loss: 182.9914\nEpoch 18/50\n - 1s - loss: 185.2060 - val_loss: 177.6778\nEpoch 19/50\n - 1s - loss: 180.7773 - val_loss: 173.5735\nEpoch 20/50\n - 6s - loss: 176.6881 - val_loss: 169.7097\nEpoch 21/50\n - 1s - loss: 172.5313 - val_loss: 165.2914\nEpoch 22/50\n - 1s - loss: 168.6246 - val_loss: 161.6279\nEpoch 23/50\n - 1s - loss: 165.3334 - val_loss: 157.4629\nEpoch 24/50\n - 1s - loss: 161.3527 - val_loss: 153.6328\nEpoch 25/50\n - 1s - loss: 157.9857 - val_loss: 149.4436\nEpoch 26/50\n - 1s - loss: 154.1795 - val_loss: 145.9356\nEpoch 27/50\n - 1s - loss: 150.1467 - val_loss: 140.9668\nEpoch 28/50\n - 1s - loss: 145.8059 - val_loss: 135.7077\nEpoch 29/50\n - 1s - loss: 141.0349 - val_loss: 131.3903\nEpoch 30/50\n - 1s - loss: 136.4695 - val_loss: 126.6944\nEpoch 31/50\n - 1s - loss: 132.4750 - val_loss: 121.7725\nEpoch 32/50\n - 6s - loss: 129.0113 - val_loss: 117.2832\nEpoch 33/50\n - 3s - loss: 124.6392 - val_loss: 112.6320\nEpoch 34/50\n - 1s - loss: 120.5430 - val_loss: 108.7070\nEpoch 35/50\n - 1s - loss: 116.7940 - val_loss: 105.2194\nEpoch 36/50\n - 1s - loss: 113.4978 - val_loss: 101.6058\nEpoch 37/50\n - 1s - loss: 110.3494 - val_loss: 98.8082\nEpoch 38/50\n - 1s - loss: 107.0817 - val_loss: 96.0331\nEpoch 39/50\n - 1s - loss: 104.0597 - val_loss: 93.3241\nEpoch 40/50\n - 1s - loss: 101.6637 - val_loss: 90.9195\nEpoch 41/50\n - 4s - loss: 99.1686 - val_loss: 88.8079\nEpoch 42/50\n - 5s - loss: 97.2463 - val_loss: 86.8393\nEpoch 43/50\n - 1s - loss: 94.9409 - val_loss: 85.4934\nEpoch 44/50\n - 1s - loss: 93.6376 - val_loss: 84.2404\nEpoch 45/50\n - 1s - loss: 91.9776 - val_loss: 82.8386\nEpoch 46/50\n - 1s - loss: 90.7635 - val_loss: 81.6636\nEpoch 47/50\n - 1s - loss: 89.4020 - val_loss: 80.9883\nEpoch 48/50\n - 1s - loss: 88.3498 - val_loss: 80.0274\nEpoch 49/50\n - 1s - loss: 87.2129 - val_loss: 79.0866\nEpoch 50/50\n - 1s - loss: 86.1201 - val_loss: 78.0768\n"
                }
            ],
            "source": "#for c change epochs 50 to 55\nresult =model.fit(X_train, y_train, validation_data=(X_test,y_test), epochs=50, verbose=2)"
        },
        {
            "cell_type": "markdown",
            "metadata": {},
            "source": "## STD and mean for a one NN"
        },
        {
            "cell_type": "code",
            "execution_count": 13,
            "metadata": {},
            "outputs": [
                {
                    "name": "stdout",
                    "output_type": "stream",
                    "text": "mean of nn 320.80688474636634 std of nn 418.03133781783265\n"
                }
            ],
            "source": "mean_nn = np.mean(result.history['loss'])\nstd_nn=np.std(result.history['loss'])\nprint('mean of nn',mean_nn,'std of nn',std_nn)"
        },
        {
            "cell_type": "markdown",
            "metadata": {},
            "source": "### Created 50 NN for the report"
        },
        {
            "cell_type": "code",
            "execution_count": 14,
            "metadata": {},
            "outputs": [
                {
                    "name": "stdout",
                    "output_type": "stream",
                    "text": "Train on 721 samples, validate on 309 samples\nEpoch 1/55\n - 2s - loss: 84.8833 - val_loss: 77.4751\nEpoch 2/55\n - 1s - loss: 84.8191 - val_loss: 76.7649\nEpoch 3/55\n - 1s - loss: 83.4342 - val_loss: 76.4370\nEpoch 4/55\n - 1s - loss: 82.3136 - val_loss: 75.4919\nEpoch 5/55\n - 1s - loss: 81.4399 - val_loss: 74.7403\nEpoch 6/55\n - 1s - loss: 80.6448 - val_loss: 74.3524\nEpoch 7/55\n - 6s - loss: 79.9953 - val_loss: 74.2330\nEpoch 8/55\n - 3s - loss: 79.4001 - val_loss: 73.7919\nEpoch 9/55\n - 1s - loss: 78.5899 - val_loss: 73.2163\nEpoch 10/55\n - 1s - loss: 78.0919 - val_loss: 72.6602\nEpoch 11/55\n - 1s - loss: 77.0691 - val_loss: 72.4273\nEpoch 12/55\n - 1s - loss: 76.6898 - val_loss: 71.9340\nEpoch 13/55\n - 1s - loss: 76.0602 - val_loss: 71.5250\nEpoch 14/55\n - 1s - loss: 75.8699 - val_loss: 70.8791\nEpoch 15/55\n - 1s - loss: 75.2094 - val_loss: 70.9622\nEpoch 16/55\n - 7s - loss: 74.8745 - val_loss: 70.2552\nEpoch 17/55\n - 1s - loss: 74.7394 - val_loss: 69.7804\nEpoch 18/55\n - 1s - loss: 74.0909 - val_loss: 70.1202\nEpoch 19/55\n - 1s - loss: 73.3057 - val_loss: 69.5669\nEpoch 20/55\n - 1s - loss: 72.7359 - val_loss: 69.2563\nEpoch 21/55\n - 1s - loss: 72.7156 - val_loss: 68.9440\nEpoch 22/55\n - 1s - loss: 72.4591 - val_loss: 69.4725\nEpoch 23/55\n - 1s - loss: 71.8609 - val_loss: 68.6331\nEpoch 24/55\n - 1s - loss: 71.7520 - val_loss: 68.7901\nEpoch 25/55\n - 1s - loss: 71.9072 - val_loss: 68.1590\nEpoch 26/55\n - 7s - loss: 71.1318 - val_loss: 68.0972\nEpoch 27/55\n - 1s - loss: 70.8439 - val_loss: 67.6713\nEpoch 28/55\n - 1s - loss: 70.3953 - val_loss: 67.8482\nEpoch 29/55\n - 1s - loss: 70.3140 - val_loss: 67.5018\nEpoch 30/55\n - 1s - loss: 70.0863 - val_loss: 68.0553\nEpoch 31/55\n - 1s - loss: 69.9232 - val_loss: 67.1921\nEpoch 32/55\n - 3s - loss: 69.5347 - val_loss: 67.3096\nEpoch 33/55\n - 1s - loss: 69.4815 - val_loss: 67.3168\nEpoch 34/55\n - 6s - loss: 69.1491 - val_loss: 67.1072\nEpoch 35/55\n - 1s - loss: 69.1994 - val_loss: 66.9681\nEpoch 36/55\n - 1s - loss: 68.4762 - val_loss: 66.7382\nEpoch 37/55\n - 1s - loss: 68.9436 - val_loss: 66.8588\nEpoch 38/55\n - 1s - loss: 68.4037 - val_loss: 65.8179\nEpoch 39/55\n - 1s - loss: 68.0122 - val_loss: 66.4232\nEpoch 40/55\n - 1s - loss: 68.2857 - val_loss: 66.8457\nEpoch 41/55\n - 1s - loss: 67.8608 - val_loss: 65.5717\nEpoch 42/55\n - 1s - loss: 67.3729 - val_loss: 66.4503\nEpoch 43/55\n - 6s - loss: 67.2018 - val_loss: 65.4943\nEpoch 44/55\n - 1s - loss: 67.1362 - val_loss: 65.0004\nEpoch 45/55\n - 1s - loss: 67.2620 - val_loss: 65.1598\nEpoch 46/55\n - 1s - loss: 66.7858 - val_loss: 66.2598\nEpoch 47/55\n - 1s - loss: 66.6326 - val_loss: 65.0035\nEpoch 48/55\n - 1s - loss: 66.8613 - val_loss: 65.0945\nEpoch 49/55\n - 1s - loss: 66.0570 - val_loss: 64.9647\nEpoch 50/55\n - 1s - loss: 66.2507 - val_loss: 65.2275\nEpoch 51/55\n - 1s - loss: 66.2962 - val_loss: 64.6336\nEpoch 52/55\n - 5s - loss: 66.1583 - val_loss: 64.9904\nEpoch 53/55\n - 1s - loss: 65.8251 - val_loss: 65.0182\nEpoch 54/55\n - 1s - loss: 66.0023 - val_loss: 64.7377\nEpoch 55/55\n - 1s - loss: 65.8122 - val_loss: 65.4112\nTrain on 721 samples, validate on 309 samples\nEpoch 1/55\n - 1s - loss: 65.3956 - val_loss: 64.6409\nEpoch 2/55\n - 3s - loss: 65.5819 - val_loss: 65.1535\nEpoch 3/55\n - 1s - loss: 65.2470 - val_loss: 64.9309\nEpoch 4/55\n - 1s - loss: 65.2478 - val_loss: 65.2291\nEpoch 5/55\n - 4s - loss: 65.2888 - val_loss: 65.0605\nEpoch 6/55\n - 3s - loss: 65.1881 - val_loss: 64.6797\nEpoch 7/55\n - 1s - loss: 65.0891 - val_loss: 64.9022\nEpoch 8/55\n - 1s - loss: 65.2307 - val_loss: 63.7086\nEpoch 9/55\n - 1s - loss: 64.7398 - val_loss: 65.2790\nEpoch 10/55\n - 1s - loss: 64.6296 - val_loss: 63.8977\nEpoch 11/55\n - 1s - loss: 64.6159 - val_loss: 64.1918\nEpoch 12/55\n - 1s - loss: 64.8333 - val_loss: 64.2113\nEpoch 13/55\n - 1s - loss: 64.6537 - val_loss: 64.9609\nEpoch 14/55\n - 6s - loss: 64.6157 - val_loss: 63.9228\nEpoch 15/55\n - 1s - loss: 64.7002 - val_loss: 64.7623\nEpoch 16/55\n - 1s - loss: 64.4772 - val_loss: 64.5162\nEpoch 17/55\n - 1s - loss: 64.5888 - val_loss: 65.1173\nEpoch 18/55\n - 1s - loss: 64.3137 - val_loss: 63.7705\nEpoch 19/55\n - 1s - loss: 64.5767 - val_loss: 63.0690\nEpoch 20/55\n - 1s - loss: 64.5556 - val_loss: 64.3242\nEpoch 21/55\n - 1s - loss: 64.0268 - val_loss: 63.8963\nEpoch 22/55\n - 1s - loss: 64.1596 - val_loss: 65.0164\nEpoch 23/55\n - 1s - loss: 64.2201 - val_loss: 64.0356\nEpoch 24/55\n - 1s - loss: 64.2006 - val_loss: 63.6263\nEpoch 25/55\n - 1s - loss: 63.8658 - val_loss: 63.4486\nEpoch 26/55\n - 1s - loss: 63.9209 - val_loss: 63.6712\nEpoch 27/55\n - 6s - loss: 64.1303 - val_loss: 63.5623\nEpoch 28/55\n - 1s - loss: 63.9017 - val_loss: 63.7377\nEpoch 29/55\n - 1s - loss: 63.6839 - val_loss: 64.5087\nEpoch 30/55\n - 1s - loss: 64.4756 - val_loss: 64.8244\nEpoch 31/55\n - 1s - loss: 64.1867 - val_loss: 64.1550\nEpoch 32/55\n - 1s - loss: 63.9922 - val_loss: 63.3072\nEpoch 33/55\n - 1s - loss: 63.6134 - val_loss: 63.4283\nEpoch 34/55\n - 1s - loss: 63.8120 - val_loss: 64.5581\nEpoch 35/55\n - 1s - loss: 63.6270 - val_loss: 62.5442\nEpoch 36/55\n - 1s - loss: 63.6446 - val_loss: 63.8402\nEpoch 37/55\n - 7s - loss: 63.6878 - val_loss: 64.3749\nEpoch 38/55\n - 1s - loss: 63.6017 - val_loss: 63.5383\nEpoch 39/55\n - 1s - loss: 63.4707 - val_loss: 62.7606\nEpoch 40/55\n - 1s - loss: 63.3152 - val_loss: 64.0712\nEpoch 41/55\n - 1s - loss: 63.1718 - val_loss: 63.4045\nEpoch 42/55\n - 1s - loss: 63.1169 - val_loss: 63.1699\nEpoch 43/55\n - 1s - loss: 63.2043 - val_loss: 63.8308\nEpoch 44/55\n - 1s - loss: 63.0524 - val_loss: 63.5468\nEpoch 45/55\n - 1s - loss: 63.1946 - val_loss: 63.9742\nEpoch 46/55\n - 1s - loss: 62.9094 - val_loss: 62.7502\nEpoch 47/55\n - 1s - loss: 63.0568 - val_loss: 64.6024\nEpoch 48/55\n - 5s - loss: 63.3007 - val_loss: 62.9255\nEpoch 49/55\n - 3s - loss: 62.8380 - val_loss: 63.4939\nEpoch 50/55\n - 1s - loss: 63.7024 - val_loss: 63.5230\nEpoch 51/55\n - 1s - loss: 62.9418 - val_loss: 62.9666\nEpoch 52/55\n - 1s - loss: 62.5648 - val_loss: 63.2207\nEpoch 53/55\n - 1s - loss: 62.6736 - val_loss: 62.9429\nEpoch 54/55\n - 1s - loss: 62.8555 - val_loss: 64.3142\nEpoch 55/55\n - 1s - loss: 62.4320 - val_loss: 63.1013\n"
                }
            ],
            "source": "results_report =[]\nfor i in range(0,2):\n    result =model.fit(X_train, y_train, validation_data=(X_test,y_test), epochs=55, verbose=2)\n    mean_nn = np.mean(result.history['loss'])\n    std_nn=np.std(result.history['loss'])\n    \n    results_report.append({\n        'nn':i,\n        'std':std_nn,\n        'mean':mean_nn\n    })"
        },
        {
            "cell_type": "code",
            "execution_count": 15,
            "metadata": {},
            "outputs": [
                {
                    "name": "stdout",
                    "output_type": "stream",
                    "text": "FOR NN  0  std  5.373501833189297  mean  72.12086441012143\nFOR NN  1  std  0.812458749074658  mean  64.0021989827438\n"
                }
            ],
            "source": "for result in results_report:\n    print('FOR NN ',result['nn'],' std ',result['std'],' mean ',result['mean'])"
        },
        {
            "cell_type": "markdown",
            "metadata": {},
            "source": "##### Conclusions (NO Normalized data)\n\n* Without normalized data, loss functions are to high, i supossed the STD, helps to indicate to NN values to create more accuracy data\n\n\n##### Conclusions (Normalized data)\n\n* With normalice data the loss functions , start to down in linear, because at epoch 1, starts in 100 and the final epoch finish in 38, now if if change the epocs and nodes and layers, maybe the difrent NN can be result in more accuracy\n* With STD of loss i think have good acurracy beacuse is less than 0.9.\n\n\n\n##### Conclusions (Normalized data and 5 more epochs)\n\n* With normalice data the loss functions and 5 more epocs, std is more high than before but more less than without normalized data, its import find correct interations for NN because in this case the fit have more acurracy\n\n\n##### Conclusions (Normalized data and 2 hidden layers with RELU activation)\n\n* With more hidden layers, the loss functions start to higth but! like a exponencial graph, starts to down so quickly and the accurcy is high!, the std is high because, loss functions start to high value to very low value\n"
        }
    ],
    "metadata": {
        "kernelspec": {
            "display_name": "Python 3.6",
            "language": "python",
            "name": "python3"
        },
        "language_info": {
            "codemirror_mode": {
                "name": "ipython",
                "version": 3
            },
            "file_extension": ".py",
            "mimetype": "text/x-python",
            "name": "python",
            "nbconvert_exporter": "python",
            "pygments_lexer": "ipython3",
            "version": "3.6.9"
        }
    },
    "nbformat": 4,
    "nbformat_minor": 1
}